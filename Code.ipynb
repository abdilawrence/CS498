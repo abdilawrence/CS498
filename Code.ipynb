{
 "cells": [
  {
   "cell_type": "code",
   "execution_count": 2,
   "id": "6ddd30d8",
   "metadata": {},
   "outputs": [],
   "source": [
    "import pandas as pd\n",
    "alldata = pd.read_csv(\"2021.csv\")\n",
    "twtcount = len(alldata.index)\n",
    "#alldata"
   ]
  },
  {
   "cell_type": "code",
   "execution_count": 3,
   "id": "a51c52e3",
   "metadata": {},
   "outputs": [
    {
     "name": "stdout",
     "output_type": "stream",
     "text": [
      "Average likes: 20703.79844395818\n"
     ]
    }
   ],
   "source": [
    "#Question 1\n",
    "\n",
    "print(\"Average likes: \" + str(alldata['nlikes'].mean()))"
   ]
  },
  {
   "cell_type": "code",
   "execution_count": 4,
   "id": "41af6cfd",
   "metadata": {},
   "outputs": [
    {
     "name": "stdout",
     "output_type": "stream",
     "text": [
      "Average views: 471200.26420293376\n"
     ]
    }
   ],
   "source": [
    "#Question 2\n",
    "\n",
    "# (likes + replies + retweets) / views = .05\n",
    "# So, views = 20 * (likes + replies + retweets)\n",
    "\n",
    "avgviews = 20 * (alldata['nlikes'].mean() + alldata['nreplies'].mean() + alldata['nretweets'].mean())\n",
    "print(\"Average views: \" + str(avgviews))"
   ]
  },
  {
   "cell_type": "code",
   "execution_count": 5,
   "id": "4b7a08d3",
   "metadata": {},
   "outputs": [
    {
     "name": "stdout",
     "output_type": "stream",
     "text": [
      "media: 779\n",
      "videos: 713\n",
      "pictures: 66\n",
      "average media size: 234.5224646983312 MB\n",
      "average tweet: 17.046143123429772 MB, or 17046143.12342977 bytes\n"
     ]
    }
   ],
   "source": [
    "# Question 3\n",
    "\n",
    "# Assuming tweet is 280 characters * 8 bytes = 2.24MB\n",
    "# max video size for Twitter is 512MB, so assume average is 256MB\n",
    "# max picture size for Twitter is 5MB, so assume average is 2.5MB\n",
    "\n",
    "mediatweets = alldata[alldata['video'] == 1] #all tweets with picture/video attached\n",
    "mediacount = len(mediatweets.index) # of tweets with media\n",
    "vidcount = mediatweets[\"photos\"][mediatweets[\"photos\"] != \"[]\"].count() # of tweets with videos\n",
    "piccount = mediacount - vidcount # of tweets with pictures\n",
    "\n",
    "avgmedia = (vidcount/mediacount * 256) + (piccount/mediacount * 2.5)\n",
    "avgsize = 2.24 + (avgmedia * (mediacount / len(alldata.index)))\n",
    "\n",
    "print(\"media: \" + str(mediacount))\n",
    "print(\"videos: \" + str(vidcount))\n",
    "print(\"pictures: \" + str(piccount))\n",
    "print(\"average media size: \" + str(avgmedia) + \" MB\")\n",
    "print(\"average tweet: \" + str(avgsize) + \" MB, or \" + str(avgsize * 1000000) + \" bytes\")"
   ]
  },
  {
   "cell_type": "code",
   "execution_count": 6,
   "id": "cab26557",
   "metadata": {},
   "outputs": [
    {
     "name": "stdout",
     "output_type": "stream",
     "text": [
      "data usage: 8032147.143401131 MB, or 8032147143401.131 bytes\n"
     ]
    }
   ],
   "source": [
    "# Question 4\n",
    "\n",
    "# data usage per tweet = views * size of tweet\n",
    "\n",
    "datausage = avgviews * avgsize\n",
    "\n",
    "print(\"data usage: \" + str(datausage) + \" MB, or \" + str(datausage * 1000000) + \" bytes\")"
   ]
  },
  {
   "cell_type": "code",
   "execution_count": 7,
   "id": "fd0d8772",
   "metadata": {},
   "outputs": [
    {
     "data": {
      "text/plain": [
       "983.2809166243869"
      ]
     },
     "execution_count": 7,
     "metadata": {},
     "output_type": "execute_result"
    }
   ],
   "source": [
    "# Question 5\n",
    "\n",
    "# total views over 11 years divided by 11 years\n",
    "\n",
    "duration = 11.25 * 365 * 24 * 60\n",
    "viewspermin = ((avgviews * twtcount) / duration)\n",
    "viewspermin"
   ]
  },
  {
   "cell_type": "code",
   "execution_count": 8,
   "id": "278cc336",
   "metadata": {},
   "outputs": [
    {
     "data": {
      "text/plain": [
       "16761.147235316515"
      ]
     },
     "execution_count": 8,
     "metadata": {},
     "output_type": "execute_result"
    }
   ],
   "source": [
    "# Question 6\n",
    "\n",
    "#views per minute * size of tweet\n",
    "\n",
    "viewspermin * avgsize"
   ]
  },
  {
   "cell_type": "code",
   "execution_count": 20,
   "id": "59ee95d1",
   "metadata": {},
   "outputs": [
    {
     "name": "stdout",
     "output_type": "stream",
     "text": [
      "32256879.908755936 MB, or 32256879908755.938 bytes\n"
     ]
    }
   ],
   "source": [
    "# Question 7\n",
    "\n",
    "# (total likes / (yrs * months)) * tweet size\n",
    "# average likes per month * size of tweet\n",
    "# Assuming that to update the data of a row/tweet, it will cost the amount of space equivalent to the tweet\n",
    "\n",
    "x = (alldata['nlikes'].sum() / (11.25 * 12)) * avgsize\n",
    "print(str(x) + \" MB, or \" + str(x * 1000000) + \" bytes\")"
   ]
  }
 ],
 "metadata": {
  "kernelspec": {
   "display_name": "Python 3 (ipykernel)",
   "language": "python",
   "name": "python3"
  },
  "language_info": {
   "codemirror_mode": {
    "name": "ipython",
    "version": 3
   },
   "file_extension": ".py",
   "mimetype": "text/x-python",
   "name": "python",
   "nbconvert_exporter": "python",
   "pygments_lexer": "ipython3",
   "version": "3.9.7"
  }
 },
 "nbformat": 4,
 "nbformat_minor": 5
}
